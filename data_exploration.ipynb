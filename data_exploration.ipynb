{
 "cells": [
  {
   "cell_type": "code",
   "execution_count": 25,
   "metadata": {
    "collapsed": true
   },
   "outputs": [],
   "source": [
    "# PLACE ALL IMPORTS IN THIS CELL\n",
    "\n",
    "import numpy as np\n",
    "import pandas as pd\n",
    "import matplotlib.pyplot as plt"
   ]
  },
  {
   "cell_type": "code",
   "execution_count": 26,
   "metadata": {
    "collapsed": true
   },
   "outputs": [],
   "source": [
    "# SET UP DATA\n",
    "\n",
    "# convert csv to a pandas DataFrame format\n",
    "train_df = pd.DataFrame.from_csv('data/train.csv')\n",
    "test_df = pd.DataFrame.from_csv('data/test.csv')"
   ]
  },
  {
   "cell_type": "code",
   "execution_count": 28,
   "metadata": {},
   "outputs": [
    {
     "name": "stdout",
     "output_type": "stream",
     "text": [
      "(1089, 17)\n",
      "(300, 15)\n"
     ]
    }
   ],
   "source": [
    "# BASIC DATASET INFORMATION\n",
    "\n",
    "# -- our train set is 1089 x 17\n",
    "print(train_df.shape)\n",
    "# -- our test set is 300 x 15 (the 2 missing columns are the label and a redundant field that resembles label)\n",
    "print(test_df.shape)"
   ]
  },
  {
   "cell_type": "code",
   "execution_count": 38,
   "metadata": {},
   "outputs": [
    {
     "name": "stdout",
     "output_type": "stream",
     "text": [
      "Number of positive [Android] training points: 619\n",
      "Number of negative [iPhone] training points: 470\n",
      "Percentage of training points from Android: 0.5684113865932048\n"
     ]
    }
   ],
   "source": [
    "# FIGURE OUT LABEL DISTRIBUTION [~57% of dataset came from Android]\n",
    "\n",
    "# create dataset with only positive labels -- 619 positive labels in training set\n",
    "df_train_pos = train_df[train_df.label == 1]\n",
    "# create dataset with only negative labels -- 470 negative labels in training set\n",
    "df_train_neg = train_df[train_df.label == -1]\n",
    "print(\"Number of positive [Android] training points: \" + str(len(df_train_pos)))\n",
    "print(\"Number of negative [iPhone] training points: \" + str(len(df_train_neg)))\n",
    "print(\"Percentage of training points from Android: \" + str(len(df_train_pos)/train_df.shape[0]))"
   ]
  },
  {
   "cell_type": "code",
   "execution_count": 39,
   "metadata": {},
   "outputs": [
    {
     "name": "stdout",
     "output_type": "stream",
     "text": [
      "id\n",
      "0         7/12/16 0:56\n",
      "1        7/11/16 22:18\n",
      "2        7/11/16 21:40\n",
      "3        7/11/16 19:51\n",
      "4        7/11/16 11:57\n",
      "5        7/10/16 18:58\n",
      "6        7/10/16 18:42\n",
      "7        7/10/16 18:27\n",
      "8        7/10/16 12:02\n",
      "9         7/9/16 21:22\n",
      "10        7/9/16 15:18\n",
      "11        7/8/16 23:26\n",
      "12        7/8/16 21:31\n",
      "13        7/8/16 14:32\n",
      "14        7/8/16 13:20\n",
      "15        7/8/16 11:02\n",
      "16         7/8/16 1:52\n",
      "17        7/7/16 20:09\n",
      "18        7/7/16 20:06\n",
      "19        7/7/16 20:04\n",
      "20        7/7/16 18:07\n",
      "21        7/7/16 11:33\n",
      "22         7/7/16 1:34\n",
      "23        7/6/16 21:58\n",
      "24        7/6/16 14:06\n",
      "25        7/6/16 14:01\n",
      "26        7/6/16 13:24\n",
      "27        7/6/16 13:12\n",
      "28        7/6/16 13:08\n",
      "29        7/6/16 12:31\n",
      "             ...      \n",
      "1059     1/16/16 19:32\n",
      "1060     1/16/16 18:31\n",
      "1061     1/16/16 18:26\n",
      "1062     1/16/16 18:23\n",
      "1063     1/16/16 18:22\n",
      "1064     1/16/16 18:21\n",
      "1065     1/16/16 16:11\n",
      "1066     1/16/16 13:42\n",
      "1067     1/16/16 13:31\n",
      "1068      1/8/16 23:12\n",
      "1069      1/8/16 22:36\n",
      "1070      1/8/16 22:09\n",
      "1071      1/8/16 22:03\n",
      "1072      1/8/16 21:20\n",
      "1073      1/8/16 15:57\n",
      "1074      1/1/16 21:29\n",
      "1075       1/1/16 6:08\n",
      "1076       1/1/16 6:07\n",
      "1077       1/1/16 5:18\n",
      "1078       1/1/16 3:25\n",
      "1079    12/26/15 13:00\n",
      "1080    12/25/15 21:49\n",
      "1081    12/25/15 21:42\n",
      "1082    12/25/15 21:11\n",
      "1083    12/25/15 20:55\n",
      "1084     12/20/15 8:21\n",
      "1085     12/20/15 5:25\n",
      "1086     12/20/15 5:11\n",
      "1087    12/14/15 21:11\n",
      "1088    12/14/15 20:09\n",
      "Name: created, Length: 1089, dtype: object\n"
     ]
    }
   ],
   "source": [
    "# EXPLORE TIME FEATURE\n",
    "print(train_df['created'])"
   ]
  },
  {
   "cell_type": "code",
   "execution_count": null,
   "metadata": {
    "collapsed": true
   },
   "outputs": [],
   "source": [
    "# EXPLORE FAVORITECOUNT FEATURE"
   ]
  },
  {
   "cell_type": "code",
   "execution_count": null,
   "metadata": {
    "collapsed": true
   },
   "outputs": [],
   "source": [
    "# EXPLORE RETWEET COUNT FEATURE"
   ]
  }
 ],
 "metadata": {
  "kernelspec": {
   "display_name": "Python 3",
   "language": "python",
   "name": "python3"
  },
  "language_info": {
   "codemirror_mode": {
    "name": "ipython",
    "version": 3
   },
   "file_extension": ".py",
   "mimetype": "text/x-python",
   "name": "python",
   "nbconvert_exporter": "python",
   "pygments_lexer": "ipython3",
   "version": "3.6.2"
  }
 },
 "nbformat": 4,
 "nbformat_minor": 2
}
