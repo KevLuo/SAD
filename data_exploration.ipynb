{
 "cells": [
  {
   "cell_type": "code",
   "execution_count": 20,
   "metadata": {},
   "outputs": [],
   "source": [
    "import numpy as np\n",
    "import pandas as pd\n",
    "import matplotlib.pyplot as plt\n",
    "import nltk\n",
    "from nltk.corpus import brown\n",
    "import enchant\n",
    "import datetime\n",
    "d = enchant.Dict(\"en_US\")\n",
    "word_set = set(brown.words())"
   ]
  },
  {
   "cell_type": "code",
   "execution_count": 184,
   "metadata": {
    "collapsed": true
   },
   "outputs": [],
   "source": [
    "# SET UP DATA\n",
    "\n",
    "# convert csv to a pandas DataFrame format\n",
    "train_df = pd.DataFrame.from_csv('data/train.csv')\n",
    "test_df = pd.DataFrame.from_csv('data/test.csv')"
   ]
  },
  {
   "cell_type": "code",
   "execution_count": 7,
   "metadata": {},
   "outputs": [
    {
     "name": "stdout",
     "output_type": "stream",
     "text": [
      "(1089, 17)\n",
      "(300, 15)\n"
     ]
    }
   ],
   "source": [
    "# BASIC DATASET INFORMATION\n",
    "\n",
    "# -- our train set is 1089 x 17\n",
    "print(train_df.shape)\n",
    "# -- our test set is 300 x 15 (the 2 missing columns are the label and a redundant field that resembles label)\n",
    "print(test_df.shape)"
   ]
  },
  {
   "cell_type": "code",
   "execution_count": 8,
   "metadata": {},
   "outputs": [
    {
     "data": {
      "text/plain": [
       "1089"
      ]
     },
     "execution_count": 8,
     "metadata": {},
     "output_type": "execute_result"
    }
   ],
   "source": [
    "train_df.shape[0]"
   ]
  },
  {
   "cell_type": "code",
   "execution_count": 9,
   "metadata": {},
   "outputs": [
    {
     "name": "stdout",
     "output_type": "stream",
     "text": [
      "Number of positive [Android] training points: 619\n",
      "Number of negative [iPhone] training points: 470\n",
      "Percentage of training points from Android: 0\n"
     ]
    }
   ],
   "source": [
    "# FIGURE OUT LABEL DISTRIBUTION [~57% of dataset came from Android]\n",
    "\n",
    "# create dataset with only positive labels -- 619 positive labels in training set\n",
    "df_train_pos = train_df[train_df.label == 1]\n",
    "# create dataset with only negative labels -- 470 negative labels in training set\n",
    "df_train_neg = train_df[train_df.label == -1]\n",
    "print(\"Number of positive [Android] training points: \" + str(len(df_train_pos)))\n",
    "print(\"Number of negative [iPhone] training points: \" + str(len(df_train_neg)))\n",
    "print(\"Percentage of training points from Android: \" + str(len(df_train_pos)/train_df.shape[0]))"
   ]
  }
 ],
 "metadata": {
  "kernelspec": {
   "display_name": "Python 2",
   "language": "python",
   "name": "python2"
  },
  "language_info": {
   "codemirror_mode": {
    "name": "ipython",
    "version": 2
   },
   "file_extension": ".py",
   "mimetype": "text/x-python",
   "name": "python",
   "nbconvert_exporter": "python",
   "pygments_lexer": "ipython2",
   "version": "2.7.13"
  }
 },
 "nbformat": 4,
 "nbformat_minor": 2
}
